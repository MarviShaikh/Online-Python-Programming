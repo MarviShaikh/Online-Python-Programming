{
 "cells": [
  {
   "cell_type": "code",
   "execution_count": 2,
   "id": "236d059e",
   "metadata": {},
   "outputs": [
    {
     "name": "stdout",
     "output_type": "stream",
     "text": [
      "Solution no 1\n",
      "Twinkle, twinkle, little star, \n",
      "\tHow I wonder what you are! \n",
      "\t\tUp above the world so high, \n",
      "\t\tLike a diamond in the sky. \n",
      "Twinkle, twinkle, little star, \n",
      "\tHow I wonder what you are\n"
     ]
    }
   ],
   "source": [
    "#1.Write a Python program to print the following string in a specific format\n",
    "print(\"Solution no 1\");\n",
    "print(\"Twinkle, twinkle, little star, \\n\\tHow I wonder what you are! \\n\\t\\tUp above the world so high, \\n\\t\\tLike a diamond in the sky. \\nTwinkle, twinkle, little star, \\n\\tHow I wonder what you are\");"
   ]
  },
  {
   "cell_type": "code",
   "execution_count": 3,
   "id": "ba7f87f9",
   "metadata": {},
   "outputs": [
    {
     "name": "stdout",
     "output_type": "stream",
     "text": [
      "Solution no 2\n",
      "3.8.8 (default, Apr 13 2021, 15:08:03) [MSC v.1916 64 bit (AMD64)]\n"
     ]
    }
   ],
   "source": [
    "#2.Write a Python program to get the Python version you are using\n",
    "import sys\n",
    "print(\"Solution no 2\");\n",
    "print(sys.version);\n"
   ]
  },
  {
   "cell_type": "code",
   "execution_count": 4,
   "id": "c5d852f0",
   "metadata": {},
   "outputs": [
    {
     "name": "stdout",
     "output_type": "stream",
     "text": [
      "Solution no 3\n",
      "Current Date and Time: 2021-10-23 00:08:54\n"
     ]
    }
   ],
   "source": [
    "#3.Write a Python program to display the current date and time.\n",
    "import datetime\n",
    "print(\"Solution no 3\");\n",
    "now = datetime.datetime.now();\n",
    "print(\"Current Date and Time:\",now.strftime(\"%Y-%m-%d %H:%M:%S\"));"
   ]
  },
  {
   "cell_type": "code",
   "execution_count": 5,
   "id": "ccf9eb4c",
   "metadata": {},
   "outputs": [
    {
     "name": "stdout",
     "output_type": "stream",
     "text": [
      "Solution no 4\n",
      "Enter Value of Radius:4\n",
      "Area of Circle is: 50.24\n"
     ]
    }
   ],
   "source": [
    "#4.Write a Python program which accepts the radius of a circle from the user and compute the area\n",
    "print(\"Solution no 4\");\n",
    "radius= int(input(\"Enter Value of Radius:\"));\n",
    "pi=3.14;\n",
    "area=pi*(radius)**2;\n",
    "print(\"Area of Circle is:\",area);"
   ]
  },
  {
   "cell_type": "code",
   "execution_count": 6,
   "id": "6b6f8b5a",
   "metadata": {},
   "outputs": [
    {
     "name": "stdout",
     "output_type": "stream",
     "text": [
      "Solution no 5\n",
      "Enter First Name:Marvi\n",
      "Enter Last Name:Shaikh\n",
      "Name in Reverse Order:Shaikh Marvi\n"
     ]
    }
   ],
   "source": [
    "#5.Write a Python program which accepts the user's first and last name and print them in reverse order with a space between them\n",
    "print(\"Solution no 5\");\n",
    "firstname = input(\"Enter First Name:\");\n",
    "lastname = input(\"Enter Last Name:\");\n",
    "print (\"Name in Reverse Order:\"+lastname + \" \" + firstname);"
   ]
  },
  {
   "cell_type": "code",
   "execution_count": 7,
   "id": "c7eaf3d1",
   "metadata": {},
   "outputs": [
    {
     "name": "stdout",
     "output_type": "stream",
     "text": [
      "Solution no 6\n",
      "Enter First Number:8\n",
      "Enter Second Number:9\n",
      "Addition of two numbers: 17\n"
     ]
    }
   ],
   "source": [
    "#6.Write a python program which takes two inputs from user and print them addition \n",
    "print(\"Solution no 6\");\n",
    "num1= int(input(\"Enter First Number:\"));\n",
    "num2= int(input(\"Enter Second Number:\"));\n",
    "addition= num1+num2;\n",
    "print(\"Addition of two numbers:\",addition);"
   ]
  },
  {
   "cell_type": "code",
   "execution_count": 8,
   "id": "92588ddf",
   "metadata": {},
   "outputs": [
    {
     "name": "stdout",
     "output_type": "stream",
     "text": [
      "Solution no 7\n",
      "Enter English Marks:86\n",
      "Enter Maths Marks:80\n",
      "Enter Islamiat Marks:90\n",
      "Enter Science Marks:88\n",
      "Enter Computer Marks:95\n",
      "Obtain Marks: 439\n",
      "Percentage: 87.8\n",
      "Grade A+\n"
     ]
    }
   ],
   "source": [
    "#7.Write a program which takes 5 inputs from user for different subject’s marks, total it and generate mark sheet using grades\n",
    "print(\"Solution no 7\");\n",
    "eng = int(input(\"Enter English Marks:\"));\n",
    "maths = int(input(\"Enter Maths Marks:\"));\n",
    "isl = int(input(\"Enter Islamiat Marks:\"));\n",
    "sci = int(input(\"Enter Science Marks:\"));\n",
    "comp = int(input(\"Enter Computer Marks:\"));\n",
    "Total=500;\n",
    "Obtain= eng+maths+isl+sci+comp;\n",
    "print(\"Obtain Marks:\",Obtain);\n",
    "Percentage = (Obtain/Total)*100;\n",
    "print(\"Percentage:\",Percentage);\n",
    "if Percentage < 100 and Percentage >=80:\n",
    "    print(\"Grade A+\");\n",
    "elif Percentage < 80 and Percentage >=70:\n",
    "    print(\"Grade A\");\n",
    "elif Percentage < 70 and Percentage >=60:\n",
    "    print(\"Grade B\");\n",
    "elif Percentage < 60 and Percentage >=50:\n",
    "    print(\"Grade C\");\n",
    "elif Percentage < 50 and Percentage >=40:\n",
    "    print(\"Grade D\");\n",
    "elif Percentage < 40 and Percentage >=33:\n",
    "    print(\"Grade E\");\n",
    "elif Percentage < 0 and Percentage > 100:\n",
    "    print(\"invalid\");\n",
    "else:\n",
    "    print(\"Fail\");\n"
   ]
  },
  {
   "cell_type": "code",
   "execution_count": 9,
   "id": "27b082d8",
   "metadata": {},
   "outputs": [
    {
     "name": "stdout",
     "output_type": "stream",
     "text": [
      "Solution no 8\n",
      "Enter Any Number:8\n",
      "You Entered Even Number\n"
     ]
    }
   ],
   "source": [
    "#8.Write a program which take input from user and identify that the given number is even or odd? \n",
    "print(\"Solution no 8\");\n",
    "num = int(input(\"Enter Any Number:\"));\n",
    "if(num % 2 == 0):\n",
    "    print(\"You Entered Even Number\");\n",
    "else:\n",
    "    print(\"You Entered Odd Number\");\n",
    "    "
   ]
  },
  {
   "cell_type": "code",
   "execution_count": 10,
   "id": "b8c5a40f",
   "metadata": {},
   "outputs": [
    {
     "name": "stdout",
     "output_type": "stream",
     "text": [
      "Solution no 9\n",
      "List: ['Marvi', 'Tooba', 'Memoona']\n",
      "Length of List: 3\n"
     ]
    }
   ],
   "source": [
    "#9.Write a program which print the length of the list?\n",
    "print(\"Solution no 9\");\n",
    "name = [\"Marvi\",\"Tooba\",\"Memoona\"];\n",
    "print(\"List:\",name);\n",
    "print(\"Length of List:\",len(name));"
   ]
  },
  {
   "cell_type": "code",
   "execution_count": 13,
   "id": "1f174ef3",
   "metadata": {},
   "outputs": [
    {
     "name": "stdout",
     "output_type": "stream",
     "text": [
      "Solution no 10\n",
      "List: [1, 10, 80, 90, 16]\n",
      "Sum of List: 197\n"
     ]
    }
   ],
   "source": [
    "#10.Write a Python program to sum all the numeric items in a list? \n",
    "print(\"Solution no 10\");\n",
    "liss = [1, 10, 80, 90, 16]\n",
    "print(\"List:\",liss)\n",
    "print(\"Sum of List:\",sum(liss));"
   ]
  },
  {
   "cell_type": "code",
   "execution_count": 14,
   "id": "31cc977f",
   "metadata": {},
   "outputs": [
    {
     "name": "stdout",
     "output_type": "stream",
     "text": [
      "Solution no 11\n",
      "List: [1, 10, 80, 90, 16]\n",
      "Largest number in the list is: 90\n"
     ]
    }
   ],
   "source": [
    "#11.Write a Python program to get the largest number from a numeric list. \n",
    "print(\"Solution no 11\");\n",
    "lis = [1, 10, 80, 90, 16]\n",
    "print(\"List:\",lis)\n",
    "lis.sort()\n",
    "print(\"Largest number in the list is:\", lis[-1])"
   ]
  },
  {
   "cell_type": "code",
   "execution_count": 18,
   "id": "ac4948e9",
   "metadata": {},
   "outputs": [
    {
     "name": "stdout",
     "output_type": "stream",
     "text": [
      "Solution no 12\n",
      "List [1, 1, 2, 3, 5, 8, 13, 21, 34, 55, 89]\n",
      "Elements of the list that are less than 5:\n",
      "[1, 1, 2, 3]\n"
     ]
    }
   ],
   "source": [
    "#12.Write a program that prints out all the elements of the list that are less than 5. \n",
    "print(\"Solution no 12\");\n",
    "a = [1, 1, 2, 3, 5, 8, 13, 21, 34, 55, 89] \n",
    "print(\"List\",a);\n",
    "print(\"Elements of the list that are less than 5:\")\n",
    "print([x for x in a if x<5])"
   ]
  },
  {
   "cell_type": "code",
   "execution_count": null,
   "id": "c8c002f7",
   "metadata": {},
   "outputs": [],
   "source": []
  }
 ],
 "metadata": {
  "kernelspec": {
   "display_name": "Python 3",
   "language": "python",
   "name": "python3"
  },
  "language_info": {
   "codemirror_mode": {
    "name": "ipython",
    "version": 3
   },
   "file_extension": ".py",
   "mimetype": "text/x-python",
   "name": "python",
   "nbconvert_exporter": "python",
   "pygments_lexer": "ipython3",
   "version": "3.8.8"
  }
 },
 "nbformat": 4,
 "nbformat_minor": 5
}
