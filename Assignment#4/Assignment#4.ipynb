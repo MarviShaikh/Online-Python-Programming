{
 "cells": [
  {
   "cell_type": "code",
   "execution_count": 1,
   "id": "613771c3",
   "metadata": {},
   "outputs": [
    {
     "name": "stdout",
     "output_type": "stream",
     "text": [
      "Solution no 1\n",
      "Calculator\n",
      "Enter 1st number:2\n",
      "Enter 2nd number:3\n",
      "Press + for addition, - for subraction, * for multiplication, / for division, p for power\n",
      "Select Operator:+\n",
      "Your input: 2 + 3\n",
      "Answer: 5\n"
     ]
    }
   ],
   "source": [
    "#1.Make a calculator using Python with addition , subtraction , multiplication ,division and power.\n",
    "print(\"Solution no 1\");\n",
    "print(\"Calculator\")\n",
    "num1= int(input(\"Enter 1st number:\"));\n",
    "num2= int(input(\"Enter 2nd number:\"));\n",
    "print(\"Press + for addition, - for subraction, * for multiplication, / for division, p for power\")\n",
    "operator = input(\"Select Operator:\");\n",
    "print(\"Your input:\",num1,operator,num2)\n",
    "if operator == \"+\":\n",
    "    add = num1+num2\n",
    "    print(\"Answer:\",add)\n",
    "elif operator == \"-\":\n",
    "    sub = num1-num2\n",
    "    print(\"Answer:\",sub)\n",
    "elif operator == \"*\":\n",
    "    mul = num1*num2\n",
    "    print(\"Answer:\",mul)\n",
    "elif operator == \"/\":\n",
    "    div = num1/num2\n",
    "    print(\"Answer:\",div)\n",
    "elif operator == \"p\":\n",
    "    power = num1**num2\n",
    "    print(\"Answer:\",power)"
   ]
  },
  {
   "cell_type": "code",
   "execution_count": 2,
   "id": "bfefca0b",
   "metadata": {},
   "outputs": [
    {
     "name": "stdout",
     "output_type": "stream",
     "text": [
      "Solution no 2\n",
      "['abc', 'd', 'marvi', 4]\n",
      "Numeric value in list: 4\n"
     ]
    }
   ],
   "source": [
    "#2.Write a program to check if there is any numeric value in list using for loop.\n",
    "print(\"Solution no 2\");\n",
    "list = [\"abc\", \"d\", \"marvi\", 4] \n",
    "print(list)\n",
    "for x in list: \n",
    "    if type(x) == int: \n",
    "        print(\"Numeric value in list:\",x)\n",
    "if type(x) != int:\n",
    "    print(\"Numeric value is not exist in list\")"
   ]
  },
  {
   "cell_type": "code",
   "execution_count": 3,
   "id": "e0b1dbc2",
   "metadata": {},
   "outputs": [
    {
     "name": "stdout",
     "output_type": "stream",
     "text": [
      "Solution no 3\n",
      "Dictionary: {'maham': '03451234567', 'fahad': '03331234568'}\n",
      "Updated Dictionary: {'maham': '03451234567', 'fahad': '03331234568', 'nimra': '089989898'}\n"
     ]
    }
   ],
   "source": [
    "#3.Write a Python script to add a key to a dictionary.\n",
    "print(\"Solution no 3\");\n",
    "dict1 = {\"maham\":\"03451234567\", \"fahad\":\"03331234568\"}\n",
    "print(\"Dictionary:\",dict1);\n",
    "dict1.update({\"nimra\":\"089989898\"})\n",
    "print(\"Updated Dictionary:\",dict1)"
   ]
  },
  {
   "cell_type": "code",
   "execution_count": 4,
   "id": "dfa25257",
   "metadata": {},
   "outputs": [
    {
     "name": "stdout",
     "output_type": "stream",
     "text": [
      "Solution no 4\n",
      "{'num1': 40, 'num2': 30}\n",
      "Sum of numeric values: 70\n"
     ]
    }
   ],
   "source": [
    "#4.Write a Python program to sum all the numeric items in a dictionary.\n",
    "print(\"Solution no 4\");\n",
    "dict1 = {'num1':40,'num2':30}\n",
    "print(dict1)\n",
    "print(\"Sum of numeric values:\",sum(dict1.values()))"
   ]
  },
  {
   "cell_type": "code",
   "execution_count": 6,
   "id": "e6799c41",
   "metadata": {},
   "outputs": [
    {
     "name": "stdout",
     "output_type": "stream",
     "text": [
      "Solution no 4\n",
      "list: [1, 2, 3, 4, 1, 4]\n",
      "Duplicate values:  [1, 4]\n"
     ]
    }
   ],
   "source": [
    "#5.Write a program to identify duplicate values from list.\n",
    "print(\"Solution no 4\");\n",
    "list1=[1,2,3,4,1,4]\n",
    "print(\"list:\",list1)\n",
    "duplicate = []\n",
    "unique = []\n",
    "for i in list1:\n",
    "    if i in unique:\n",
    "        duplicate.append(i)\n",
    "    else:\n",
    "        unique.append(i)\n",
    "print(\"Duplicate values: \", duplicate)"
   ]
  },
  {
   "cell_type": "code",
   "execution_count": 7,
   "id": "523158bf",
   "metadata": {},
   "outputs": [
    {
     "name": "stdout",
     "output_type": "stream",
     "text": [
      "Solution no 6\n",
      "Enter Key to check:9\n",
      "Key is not present in the dictionary\n"
     ]
    }
   ],
   "source": [
    "#6.Write a Python script to check if a given key already exists in a dictionary\n",
    "print(\"Solution no 6\");\n",
    "d = {1: 10, 2: 20, 3: 30, 4: 40, 5: 50, 6: 60}\n",
    "keyy=int(input(\"Enter Key to check:\"));\n",
    "def is_key_present(x):\n",
    "  if x in d:\n",
    "      print('Key is present in the dictionary')\n",
    "  else:\n",
    "      print('Key is not present in the dictionary')\n",
    "is_key_present(keyy)"
   ]
  },
  {
   "cell_type": "code",
   "execution_count": null,
   "id": "ceee4dc0",
   "metadata": {},
   "outputs": [],
   "source": []
  }
 ],
 "metadata": {
  "kernelspec": {
   "display_name": "Python 3",
   "language": "python",
   "name": "python3"
  },
  "language_info": {
   "codemirror_mode": {
    "name": "ipython",
    "version": 3
   },
   "file_extension": ".py",
   "mimetype": "text/x-python",
   "name": "python",
   "nbconvert_exporter": "python",
   "pygments_lexer": "ipython3",
   "version": "3.8.8"
  }
 },
 "nbformat": 4,
 "nbformat_minor": 5
}
